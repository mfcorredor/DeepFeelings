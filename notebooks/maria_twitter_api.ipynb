{
 "cells": [
  {
   "cell_type": "code",
   "execution_count": 58,
   "id": "b3343c73",
   "metadata": {},
   "outputs": [],
   "source": [
    "import os\n",
    "from dotenv import load_dotenv\n",
    "import requests\n",
    "import csv\n",
    "import time"
   ]
  },
  {
   "cell_type": "code",
   "execution_count": 5,
   "id": "f7fa7e4e",
   "metadata": {},
   "outputs": [],
   "source": [
    "def get_bearer_token():\n",
    "    load_dotenv()\n",
    "    return os.getenv('TWITTER_BEARER_TOKEN')"
   ]
  },
  {
   "cell_type": "code",
   "execution_count": 7,
   "id": "2f07729b",
   "metadata": {},
   "outputs": [],
   "source": [
    "def create_headers(bearer_token):\n",
    "    headers = {\"Authorization\": \"Bearer {}\".format(bearer_token)}\n",
    "    return headers"
   ]
  },
  {
   "cell_type": "code",
   "execution_count": 65,
   "id": "b28cb3a5",
   "metadata": {},
   "outputs": [],
   "source": [
    "def create_url(user_id, max_results = 10):\n",
    "    \n",
    "    search_url = f\"https://api.twitter.com/2/users/{user_id}/mentions\" #Endpoint for user mentions, max 100 tweets\n",
    "\n",
    "    #params fot the endpoint\n",
    "    query_params = {'max_results': max_results,\n",
    "                    'pagination_token': {}\n",
    "                    }\n",
    "    return (search_url, query_params)"
   ]
  },
  {
   "cell_type": "code",
   "execution_count": 66,
   "id": "8f362bc9",
   "metadata": {},
   "outputs": [],
   "source": [
    "def connect_to_endpoint(url, headers, params, next_token = None):\n",
    "    params['pagination_token'] = next_token\n",
    "    response = requests.request(\"GET\", url, headers = headers, params = params)\n",
    "    print(\"Endpoint Response Code: \" + str(response.status_code))\n",
    "    if response.status_code != 200:\n",
    "        raise Exception(response.status_code, response.text)\n",
    "    return response.json()"
   ]
  },
  {
   "cell_type": "code",
   "execution_count": 41,
   "id": "337516ae",
   "metadata": {},
   "outputs": [],
   "source": [
    "def get_user_id(user_name):\n",
    "    url = f'https://api.twitter.com/2/users/by/username/{user_name}'\n",
    "    response = requests.request(\"GET\", url, headers = headers)\n",
    "    if response.status_code != 200:\n",
    "        raise Exception(response.status_code, response.text)\n",
    "    return response.json()['data']['id']"
   ]
  },
  {
   "cell_type": "code",
   "execution_count": 20,
   "id": "a0314fda",
   "metadata": {},
   "outputs": [],
   "source": [
    "#Inputs for the request\n",
    "bearer_token = auth()\n",
    "headers = create_headers(bearer_token)\n",
    "user_id = get_user_id('McDonalds')  #McDonald's id"
   ]
  },
  {
   "cell_type": "code",
   "execution_count": 21,
   "id": "7c28a5df",
   "metadata": {},
   "outputs": [],
   "source": [
    "url, params = create_url(user_id)"
   ]
  },
  {
   "cell_type": "code",
   "execution_count": 23,
   "id": "a514611d",
   "metadata": {},
   "outputs": [
    {
     "name": "stdout",
     "output_type": "stream",
     "text": [
      "Endpoint Response Code: 200\n"
     ]
    }
   ],
   "source": [
    "tweets = connect_to_endpoint(url, headers, params)"
   ]
  },
  {
   "cell_type": "code",
   "execution_count": 86,
   "id": "1c01c1a6",
   "metadata": {},
   "outputs": [
    {
     "name": "stdout",
     "output_type": "stream",
     "text": [
      "Endpoint Response Code: 200\n",
      "Endpoint Response Code: 200\n",
      "Endpoint Response Code: 200\n",
      "Endpoint Response Code: 200\n",
      "Endpoint Response Code: 200\n",
      "Endpoint Response Code: 200\n",
      "Endpoint Response Code: 200\n",
      "Endpoint Response Code: 200\n",
      "Endpoint Response Code: 200\n"
     ]
    }
   ],
   "source": [
    "#Total number of tweets we collected from the loop\n",
    "total_tweets = 0\n",
    "\n",
    "# Create file\n",
    "csvFile = open(\"../raw_data/tweets.csv\", \"a\", newline=\"\", encoding='utf-8')\n",
    "csvWriter = csv.writer(csvFile)\n",
    "csvWriter.writerow(['tweets'])\n",
    "\n",
    "# Inputs\n",
    "max_results = 100 # Max tweets per time period\n",
    "flag = True\n",
    "next_token = None\n",
    "\n",
    "# Check if flag is true\n",
    "while flag:\n",
    "    url, params = create_url(get_user_id('McDonalds'), max_results)\n",
    "    json_response = connect_to_endpoint(url, headers, params, next_token)\n",
    "    result_count = json_response['meta']['result_count']\n",
    "\n",
    "    if 'next_token' in json_response['meta']:\n",
    "        # Save the token to use for next call\n",
    "        next_token = json_response['meta']['next_token']\n",
    "        if result_count is not None and result_count > 0 and next_token is not None:\n",
    "            for tweet in json_response['data']:\n",
    "                text = tweet['text'].replace('\\n', ' ')\n",
    "                csvWriter.writerow([text]) #add tweet to csv\n",
    "            total_tweets += result_count\n",
    "            time.sleep(5)                \n",
    "    # If no next token exists\n",
    "    else:\n",
    "        if result_count is not None and result_count > 0:\n",
    "            for tweet in json_response['data']:\n",
    "                text = tweet['text'].replace('\\n', ' ')\n",
    "                csvWriter.writerow([text]) #add tweet to csv\n",
    "            total_tweets += result_count\n",
    "            time.sleep(5)\n",
    "\n",
    "        #Since this is the final request, turn flag to false to move to the next time period.\n",
    "        flag = False\n",
    "        next_token = None\n",
    "    time.sleep(5)\n",
    "csvFile.close()"
   ]
  },
  {
   "cell_type": "code",
   "execution_count": 87,
   "id": "025fd5bf",
   "metadata": {},
   "outputs": [],
   "source": [
    "#Try adding start and end dates to get data from different months"
   ]
  },
  {
   "cell_type": "code",
   "execution_count": null,
   "id": "aefd7e7c",
   "metadata": {},
   "outputs": [],
   "source": []
  }
 ],
 "metadata": {
  "kernelspec": {
   "display_name": "Python 3 (ipykernel)",
   "language": "python",
   "name": "python3"
  },
  "language_info": {
   "codemirror_mode": {
    "name": "ipython",
    "version": 3
   },
   "file_extension": ".py",
   "mimetype": "text/x-python",
   "name": "python",
   "nbconvert_exporter": "python",
   "pygments_lexer": "ipython3",
   "version": "3.8.12"
  },
  "toc": {
   "base_numbering": 1,
   "nav_menu": {},
   "number_sections": true,
   "sideBar": true,
   "skip_h1_title": false,
   "title_cell": "Table of Contents",
   "title_sidebar": "Contents",
   "toc_cell": false,
   "toc_position": {},
   "toc_section_display": true,
   "toc_window_display": false
  }
 },
 "nbformat": 4,
 "nbformat_minor": 5
}

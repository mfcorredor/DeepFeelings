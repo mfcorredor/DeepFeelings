{
 "cells": [
  {
   "cell_type": "code",
   "execution_count": 13,
   "id": "10ddc6d2",
   "metadata": {},
   "outputs": [],
   "source": [
    "import os\n",
    "from dotenv import load_dotenv\n",
    "import requests"
   ]
  },
  {
   "cell_type": "code",
   "execution_count": 5,
   "id": "d61a614e",
   "metadata": {},
   "outputs": [],
   "source": [
    "def get_bearer_token():\n",
    "    load_dotenv()\n",
    "    return os.getenv('TWITTER_BEARER_TOKEN')"
   ]
  },
  {
   "cell_type": "code",
   "execution_count": 7,
   "id": "a8458fa4",
   "metadata": {},
   "outputs": [],
   "source": [
    "def create_headers(bearer_token):\n",
    "    headers = {\"Authorization\": \"Bearer {}\".format(bearer_token)}\n",
    "    return headers"
   ]
  },
  {
   "cell_type": "code",
   "execution_count": 15,
   "id": "d2cc46e1",
   "metadata": {},
   "outputs": [],
   "source": [
    "def create_url(user_id, max_results = 10):\n",
    "    \n",
    "    search_url = f\"https://api.twitter.com/2/users/{user_id}/mentions\" #Endpoint for user mentions, max 100 tweets\n",
    "\n",
    "    #params fot the endpoint\n",
    "    query_params = {'max_results': max_results,\n",
    "                    }\n",
    "    return (search_url, query_params)"
   ]
  },
  {
   "cell_type": "code",
   "execution_count": 16,
   "id": "86f57810",
   "metadata": {},
   "outputs": [],
   "source": [
    "def connect_to_endpoint(url, headers, params):\n",
    "    response = requests.request(\"GET\", url, headers = headers, params = params)\n",
    "    print(\"Endpoint Response Code: \" + str(response.status_code))\n",
    "    if response.status_code != 200:\n",
    "        raise Exception(response.status_code, response.text)\n",
    "    return response.json()"
   ]
  },
  {
   "cell_type": "code",
   "execution_count": 20,
   "id": "86839e57",
   "metadata": {},
   "outputs": [],
   "source": [
    "#Inputs for the request\n",
    "bearer_token = auth()\n",
    "headers = create_headers(bearer_token)\n",
    "user_id = \"71026122\"  #McDonald's"
   ]
  },
  {
   "cell_type": "code",
   "execution_count": 21,
   "id": "e6406197",
   "metadata": {},
   "outputs": [],
   "source": [
    "url, params = create_url(user_id)"
   ]
  },
  {
   "cell_type": "code",
   "execution_count": 23,
   "id": "452e59fe",
   "metadata": {},
   "outputs": [
    {
     "name": "stdout",
     "output_type": "stream",
     "text": [
      "Endpoint Response Code: 200\n"
     ]
    }
   ],
   "source": [
    "tweets = connect_to_endpoint(url, headers, params)"
   ]
  },
  {
   "cell_type": "code",
   "execution_count": 31,
   "id": "1be57f2a",
   "metadata": {},
   "outputs": [
    {
     "data": {
      "text/plain": [
       "[{'id': '1531252149220528129',\n",
       "  'text': '@McDonalds bring back salads or wraps!! I miss you!!!'},\n",
       " {'id': '1531251956638941185',\n",
       "  'text': '@Thegeneral45 @BSCGrimaceCoin I want to buy a BigMac with @BSCGrimaceCoin 💜 @McDonalds 👀'},\n",
       " {'id': '1531251547077849090',\n",
       "  'text': '@BabyDoge_06 @kucoincom WE ❤ LOVE 🐶#BabyDoge\\n@krakenfx @VitalikButerin @elonmusk @binance @McDonalds @coinbase @cryptocom  @kucoincom @SnoopDogg @BabyDogeNFTs  @RobinhoodApp @cz_binance   @WazirXIndia  @FTX_Official   @eToroNL \\n#BabyDogeCoin 🐕\\n#BabyDogeArmy \\n@BabyDogeCoin\\n https://t.co/rv3T0RN9l4'},\n",
       " {'id': '1531251427280306176',\n",
       "  'text': '@kucoincom WE ❤ LOVE 🐶#BabyDoge\\n@krakenfx @VitalikButerin @elonmusk @binance @McDonalds @coinbase @cryptocom  @kucoincom @SnoopDogg @BabyDogeNFTs  @RobinhoodApp @cz_binance   @WazirXIndia  @FTX_Official   @eToroNL \\n#BabyDogeCoin 🐕\\n#BabyDogeArmy \\n@BabyDogeCoin\\n https://t.co/rv3T0RN9l4'},\n",
       " {'id': '1531251409949171713',\n",
       "  'text': \"@CWojakz @McDonalds Kindly send a dm let's collab\"},\n",
       " {'id': '1531251257461161984',\n",
       "  'text': '@trevord22_ @McDonalds Reasonable pricing 🙄'},\n",
       " {'id': '1531251225873813505',\n",
       "  'text': '@AlphGenesis #AGEN @BSCGemAlert @chasebaker91\\n@BSCGemsAlert @bsc_daily @PancakeSwap @TrustWallet @CoinMarketCap @RobinhoodApp @coinbase @McDonalds @SlimJim #SGTS #SGTSHIB #AlphaApeNetwork #BNB    #BTC    #AANT #BSCGems #Crypto #BSC #CRO #Bitcoin #SHIBA #binance'},\n",
       " {'id': '1531251106424229888',\n",
       "  'text': '@kucoincom WE ❤ LOVE 🐶#BabyDoge\\n@krakenfx @VitalikButerin @elonmusk @binance @McDonalds @coinbase @CoinMarketCap @kucoincom @SnoopDogg @BabyDogeNFTs  @RobinhoodApp @cz_binance   @WazirXIndia  @FTX_Official   @eToroNL \\n#BabyDogeCoin 🐕\\n#BabyDogeArmy \\n@BabyDogeCoin\\n https://t.co/rv3T0RN9l4'},\n",
       " {'id': '1531250579745476608',\n",
       "  'text': 'Wow @Arbys really going in for global domination…they make a Burger…@McDonalds &amp; @Wendys better tread lightly lol #warning'}]"
      ]
     },
     "execution_count": 31,
     "metadata": {},
     "output_type": "execute_result"
    }
   ],
   "source": [
    "tweets['data']#[0]['text']"
   ]
  },
  {
   "cell_type": "code",
   "execution_count": null,
   "id": "ec0330d5",
   "metadata": {},
   "outputs": [],
   "source": []
  }
 ],
 "metadata": {
  "kernelspec": {
   "display_name": "Python 3 (ipykernel)",
   "language": "python",
   "name": "python3"
  },
  "language_info": {
   "codemirror_mode": {
    "name": "ipython",
    "version": 3
   },
   "file_extension": ".py",
   "mimetype": "text/x-python",
   "name": "python",
   "nbconvert_exporter": "python",
   "pygments_lexer": "ipython3",
   "version": "3.8.12"
  },
  "toc": {
   "base_numbering": 1,
   "nav_menu": {},
   "number_sections": true,
   "sideBar": true,
   "skip_h1_title": false,
   "title_cell": "Table of Contents",
   "title_sidebar": "Contents",
   "toc_cell": false,
   "toc_position": {},
   "toc_section_display": true,
   "toc_window_display": false
  }
 },
 "nbformat": 4,
 "nbformat_minor": 5
}

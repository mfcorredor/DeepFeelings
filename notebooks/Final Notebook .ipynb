{
 "cells": [
  {
   "cell_type": "code",
   "execution_count": null,
   "id": "65fe6eb7",
   "metadata": {},
   "outputs": [],
   "source": [
    "# final \n",
    "\n",
    "\n",
    "data_amz = scrape_amz()\n",
    "data_twr = call_api()\n",
    "data_all = data_amz.concat(data_twr)\n",
    "\n",
    "sentiments = get_sentiments(data)\n",
    "lda = get_lda(data) \n",
    "clusters = get_clusters(data)\n",
    "wordclouds = get_wordcloud(data)\n",
    "\n",
    "\n",
    "#frontend \n",
    "#what are the exact input dfs for your frontend praphs"
   ]
  },
  {
   "cell_type": "code",
   "execution_count": null,
   "id": "7b807bcd",
   "metadata": {},
   "outputs": [],
   "source": []
  }
 ],
 "metadata": {
  "kernelspec": {
   "display_name": "Python 3 (ipykernel)",
   "language": "python",
   "name": "python3"
  },
  "language_info": {
   "codemirror_mode": {
    "name": "ipython",
    "version": 3
   },
   "file_extension": ".py",
   "mimetype": "text/x-python",
   "name": "python",
   "nbconvert_exporter": "python",
   "pygments_lexer": "ipython3",
   "version": "3.8.13"
  },
  "toc": {
   "base_numbering": 1,
   "nav_menu": {},
   "number_sections": true,
   "sideBar": true,
   "skip_h1_title": false,
   "title_cell": "Table of Contents",
   "title_sidebar": "Contents",
   "toc_cell": false,
   "toc_position": {},
   "toc_section_display": true,
   "toc_window_display": false
  }
 },
 "nbformat": 4,
 "nbformat_minor": 5
}

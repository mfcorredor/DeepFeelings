{
 "cells": [
  {
   "cell_type": "code",
   "execution_count": null,
   "id": "8301cc6f",
   "metadata": {},
   "outputs": [],
   "source": [
    "from DeepFeelings import visualization"
   ]
  },
  {
   "cell_type": "code",
   "execution_count": null,
   "id": "c7f4d0d4",
   "metadata": {},
   "outputs": [],
   "source": []
  }
 ],
 "metadata": {
  "kernelspec": {
   "display_name": "Python 3 (ipykernel)",
   "language": "python",
   "name": "python3"
  },
  "toc": {
   "base_numbering": 1,
   "nav_menu": {},
   "number_sections": true,
   "sideBar": true,
   "skip_h1_title": false,
   "title_cell": "Table of Contents",
   "title_sidebar": "Contents",
   "toc_cell": false,
   "toc_position": {},
   "toc_section_display": true,
   "toc_window_display": false
  }
 },
 "nbformat": 4,
 "nbformat_minor": 5
}

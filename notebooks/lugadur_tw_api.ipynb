{
 "cells": [
  {
   "cell_type": "markdown",
   "id": "f9daaf32",
   "metadata": {},
   "source": [
    "# Twitter API"
   ]
  },
  {
   "cell_type": "code",
   "execution_count": 1,
   "id": "934ecc40",
   "metadata": {},
   "outputs": [],
   "source": [
    "import requests\n",
    "import os\n",
    "import pandas as pd\n",
    "import csv\n",
    "from dotenv import load_dotenv"
   ]
  },
  {
   "cell_type": "code",
   "execution_count": 2,
   "id": "7522507e",
   "metadata": {},
   "outputs": [],
   "source": [
    "def auth():\n",
    "    load_dotenv()\n",
    "    return os.getenv('TWITTER_BEARER_TOKEN')"
   ]
  },
  {
   "cell_type": "code",
   "execution_count": 3,
   "id": "bd1b642b",
   "metadata": {},
   "outputs": [],
   "source": [
    "def create_headers(bearer_token):\n",
    "    headers = {\"Authorization\": \"Bearer {}\".format(bearer_token)}\n",
    "    return headers"
   ]
  },
  {
   "cell_type": "code",
   "execution_count": 4,
   "id": "8806b512",
   "metadata": {},
   "outputs": [],
   "source": [
    "def create_url_keyword(keyword, max_results = 10):\n",
    "    \n",
    "    url = \"https://api.twitter.com/2/tweets/search/recent\" \n",
    "    \n",
    "    params = {'query': keyword,\n",
    "              'max_results': max_results}\n",
    "    \n",
    "    return (url, params)"
   ]
  },
  {
   "cell_type": "code",
   "execution_count": 5,
   "id": "c6066b03",
   "metadata": {},
   "outputs": [],
   "source": [
    "def connect_to_endpoint(url, headers, params):\n",
    "    response = requests.request(\"GET\", url, headers = headers, params = params)\n",
    "    print(\"Endpoint Response Code: \" + str(response.status_code))\n",
    "    if response.status_code != 200:\n",
    "        raise Exception(response.status_code, response.text)\n",
    "    return response.json()"
   ]
  },
  {
   "cell_type": "code",
   "execution_count": 6,
   "id": "ab13f376",
   "metadata": {},
   "outputs": [
    {
     "name": "stderr",
     "output_type": "stream",
     "text": [
      "Python-dotenv could not parse statement starting at line 1\n",
      "Python-dotenv could not parse statement starting at line 4\n"
     ]
    }
   ],
   "source": [
    "#to do the request\n",
    "bearer_token = auth()\n",
    "headers = create_headers(bearer_token)"
   ]
  },
  {
   "cell_type": "code",
   "execution_count": 7,
   "id": "2f8f9f9b",
   "metadata": {},
   "outputs": [],
   "source": [
    "keyword = \"somenergia\"\n",
    "url, params = create_url_keyword(\"somenergia\")"
   ]
  },
  {
   "cell_type": "code",
   "execution_count": 8,
   "id": "758d536a",
   "metadata": {},
   "outputs": [
    {
     "name": "stdout",
     "output_type": "stream",
     "text": [
      "Endpoint Response Code: 200\n"
     ]
    }
   ],
   "source": [
    "tweets = connect_to_endpoint(url, headers, params)"
   ]
  },
  {
   "cell_type": "code",
   "execution_count": 9,
   "id": "4bc765cf",
   "metadata": {},
   "outputs": [
    {
     "data": {
      "text/html": [
       "<div>\n",
       "<style scoped>\n",
       "    .dataframe tbody tr th:only-of-type {\n",
       "        vertical-align: middle;\n",
       "    }\n",
       "\n",
       "    .dataframe tbody tr th {\n",
       "        vertical-align: top;\n",
       "    }\n",
       "\n",
       "    .dataframe thead th {\n",
       "        text-align: right;\n",
       "    }\n",
       "</style>\n",
       "<table border=\"1\" class=\"dataframe\">\n",
       "  <thead>\n",
       "    <tr style=\"text-align: right;\">\n",
       "      <th></th>\n",
       "      <th>id</th>\n",
       "      <th>text</th>\n",
       "    </tr>\n",
       "  </thead>\n",
       "  <tbody>\n",
       "    <tr>\n",
       "      <th>0</th>\n",
       "      <td>1531304763924561922</td>\n",
       "      <td>@AssunVegas @afectadoholaluz @_Rapalan_ @nitig...</td>\n",
       "    </tr>\n",
       "    <tr>\n",
       "      <th>1</th>\n",
       "      <td>1531299579546697728</td>\n",
       "      <td>Abrimos un segundo concurso de ingenierías par...</td>\n",
       "    </tr>\n",
       "    <tr>\n",
       "      <th>2</th>\n",
       "      <td>1531299576363237381</td>\n",
       "      <td>Ingeniaritza-enpresen bigarren lehiaketa ireki...</td>\n",
       "    </tr>\n",
       "    <tr>\n",
       "      <th>3</th>\n",
       "      <td>1531296837684056068</td>\n",
       "      <td>Abrimos un segundo concurso de ingenierías par...</td>\n",
       "    </tr>\n",
       "    <tr>\n",
       "      <th>4</th>\n",
       "      <td>1531296833720438787</td>\n",
       "      <td>Ingeniaritza-enpresen bigarren lehiaketa ireki...</td>\n",
       "    </tr>\n",
       "    <tr>\n",
       "      <th>5</th>\n",
       "      <td>1531294301514260481</td>\n",
       "      <td>RT @carlescomalada: Oferta laboral: desenvolup...</td>\n",
       "    </tr>\n",
       "    <tr>\n",
       "      <th>6</th>\n",
       "      <td>1531290981596811265</td>\n",
       "      <td>RT @BordaCoop: 🌿 Per a una #TransicióEnergètic...</td>\n",
       "    </tr>\n",
       "    <tr>\n",
       "      <th>7</th>\n",
       "      <td>1531290952400257025</td>\n",
       "      <td>RT @BordaCoop: 🌿 Per a una #TransicióEnergètic...</td>\n",
       "    </tr>\n",
       "    <tr>\n",
       "      <th>8</th>\n",
       "      <td>1531290748968222721</td>\n",
       "      <td>RT @jaumejosa: Aquest proper diumenge 5 de jun...</td>\n",
       "    </tr>\n",
       "    <tr>\n",
       "      <th>9</th>\n",
       "      <td>1531283666118225922</td>\n",
       "      <td>@luis_nx01 Jo sempre els hi dic que soc de @So...</td>\n",
       "    </tr>\n",
       "  </tbody>\n",
       "</table>\n",
       "</div>"
      ],
      "text/plain": [
       "                    id                                               text\n",
       "0  1531304763924561922  @AssunVegas @afectadoholaluz @_Rapalan_ @nitig...\n",
       "1  1531299579546697728  Abrimos un segundo concurso de ingenierías par...\n",
       "2  1531299576363237381  Ingeniaritza-enpresen bigarren lehiaketa ireki...\n",
       "3  1531296837684056068  Abrimos un segundo concurso de ingenierías par...\n",
       "4  1531296833720438787  Ingeniaritza-enpresen bigarren lehiaketa ireki...\n",
       "5  1531294301514260481  RT @carlescomalada: Oferta laboral: desenvolup...\n",
       "6  1531290981596811265  RT @BordaCoop: 🌿 Per a una #TransicióEnergètic...\n",
       "7  1531290952400257025  RT @BordaCoop: 🌿 Per a una #TransicióEnergètic...\n",
       "8  1531290748968222721  RT @jaumejosa: Aquest proper diumenge 5 de jun...\n",
       "9  1531283666118225922  @luis_nx01 Jo sempre els hi dic que soc de @So..."
      ]
     },
     "execution_count": 9,
     "metadata": {},
     "output_type": "execute_result"
    }
   ],
   "source": [
    "df = pd.DataFrame.from_dict(tweets[\"data\"])\n",
    "df"
   ]
  },
  {
   "cell_type": "code",
   "execution_count": 10,
   "id": "d461589e",
   "metadata": {},
   "outputs": [],
   "source": [
    "df.to_csv(f'../raw_data/tweets_{keyword}.csv')"
   ]
  }
 ],
 "metadata": {
  "kernelspec": {
   "display_name": "Python 3 (ipykernel)",
   "language": "python",
   "name": "python3"
  },
  "language_info": {
   "codemirror_mode": {
    "name": "ipython",
    "version": 3
   },
   "file_extension": ".py",
   "mimetype": "text/x-python",
   "name": "python",
   "nbconvert_exporter": "python",
   "pygments_lexer": "ipython3",
   "version": "3.8.13"
  },
  "toc": {
   "base_numbering": 1,
   "nav_menu": {},
   "number_sections": true,
   "sideBar": true,
   "skip_h1_title": false,
   "title_cell": "Table of Contents",
   "title_sidebar": "Contents",
   "toc_cell": false,
   "toc_position": {},
   "toc_section_display": true,
   "toc_window_display": false
  }
 },
 "nbformat": 4,
 "nbformat_minor": 5
}

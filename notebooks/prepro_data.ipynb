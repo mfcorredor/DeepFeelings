{
 "cells": [
  {
   "cell_type": "code",
   "execution_count": 1,
   "id": "1bc5510f",
   "metadata": {},
   "outputs": [],
   "source": [
    "import pandas as pd\n",
    "import re\n",
    "import string\n",
    "import numpy as np\n",
    "from tensorflow.keras.preprocessing.sequence import pad_sequences\n",
    "from tensorflow.keras.preprocessing.text import text_to_word_sequence"
   ]
  },
  {
   "cell_type": "markdown",
   "id": "9bf21ff3",
   "metadata": {},
   "source": [
    "# Preprocessing data"
   ]
  },
  {
   "cell_type": "markdown",
   "id": "bbc9a4c8",
   "metadata": {},
   "source": [
    "Donwload the Sentiment140 Dataset:"
   ]
  },
  {
   "cell_type": "code",
   "execution_count": 2,
   "id": "28803002",
   "metadata": {},
   "outputs": [
    {
     "name": "stdout",
     "output_type": "stream",
     "text": [
      "  % Total    % Received % Xferd  Average Speed   Time    Time     Time  Current\n",
      "                                 Dload  Upload   Total   Spent    Left  Speed\n",
      "100   270  100   270    0     0    789      0 --:--:-- --:--:-- --:--:--   815\n",
      "100 77.5M  100 77.5M    0     0  2351k      0  0:00:33  0:00:33 --:--:-- 2769k02k      0  0:00:36  0:00:24  0:00:12 3018k\n"
     ]
    }
   ],
   "source": [
    "!curl -L http://cs.stanford.edu/people/alecmgo/trainingandtestdata.zip > ~/code/mfcorredor/DeepFeelings/raw_data/sentiment140.zip"
   ]
  },
  {
   "cell_type": "code",
   "execution_count": 6,
   "id": "c6d858ca",
   "metadata": {},
   "outputs": [
    {
     "name": "stdout",
     "output_type": "stream",
     "text": [
      "Archive:  /Users/luciagd/code/mfcorredor/DeepFeelings/raw_data/sentiment140.zip\n",
      "  inflating: /Users/luciagd/code/mfcorredor/DeepFeelings/raw_data/testdata.manual.2009.06.14.csv  \n",
      "  inflating: /Users/luciagd/code/mfcorredor/DeepFeelings/raw_data/training.1600000.processed.noemoticon.csv  \n"
     ]
    }
   ],
   "source": [
    "!unzip -d ~/code/mfcorredor/DeepFeelings/raw_data/ ~/code/mfcorredor/DeepFeelings/raw_data/sentiment140.zip"
   ]
  },
  {
   "cell_type": "code",
   "execution_count": 7,
   "id": "e113458c",
   "metadata": {},
   "outputs": [],
   "source": [
    "df_train = pd.read_csv(\"../raw_data/training.1600000.processed.noemoticon.csv\",\n",
    "                names=['polarity', 'id', 'date', 'query', 'user', 'text'],\n",
    "                encoding='latin-1')"
   ]
  },
  {
   "cell_type": "code",
   "execution_count": 8,
   "id": "47a05776",
   "metadata": {},
   "outputs": [],
   "source": [
    "df_test = pd.read_csv(\"../raw_data/testdata.manual.2009.06.14.csv\",\n",
    "                names=['polarity', 'id', 'date', 'query', 'user', 'text'],\n",
    "                encoding='latin-1')"
   ]
  },
  {
   "cell_type": "markdown",
   "id": "def48acb",
   "metadata": {},
   "source": [
    "Drop no usefull columns:"
   ]
  },
  {
   "cell_type": "code",
   "execution_count": 9,
   "id": "f178d06e",
   "metadata": {},
   "outputs": [],
   "source": [
    "df_train = df_train.drop(columns=['id', 'date', 'query', 'user'])\n",
    "df_test = df_test.drop(columns=['id', 'date', 'query', 'user'])"
   ]
  },
  {
   "cell_type": "markdown",
   "id": "31536f82",
   "metadata": {},
   "source": [
    "Update polarity:"
   ]
  },
  {
   "cell_type": "code",
   "execution_count": 10,
   "id": "45d00940",
   "metadata": {},
   "outputs": [],
   "source": [
    "df_train[\"polarity\"] = df_train[\"polarity\"].replace({0: 0, 4: 1})\n",
    "df_test[\"polarity\"] = df_train[\"polarity\"].replace({0: 0, 4: 1})"
   ]
  },
  {
   "cell_type": "markdown",
   "id": "42be4bdd",
   "metadata": {},
   "source": [
    "The set is balancing?:"
   ]
  },
  {
   "cell_type": "code",
   "execution_count": 11,
   "id": "c35cee27",
   "metadata": {},
   "outputs": [
    {
     "data": {
      "text/plain": [
       "0    800000\n",
       "1    800000\n",
       "Name: polarity, dtype: int64"
      ]
     },
     "execution_count": 11,
     "metadata": {},
     "output_type": "execute_result"
    }
   ],
   "source": [
    "df_train.polarity.value_counts()"
   ]
  },
  {
   "cell_type": "markdown",
   "id": "d751a275",
   "metadata": {},
   "source": [
    "Get a samll sample to work in:"
   ]
  },
  {
   "cell_type": "code",
   "execution_count": 12,
   "id": "a5f75daa",
   "metadata": {},
   "outputs": [
    {
     "data": {
      "text/plain": [
       "0    25161\n",
       "1    24839\n",
       "Name: polarity, dtype: int64"
      ]
     },
     "execution_count": 12,
     "metadata": {},
     "output_type": "execute_result"
    }
   ],
   "source": [
    "df_train_small = df_train.sample(n=50000)\n",
    "df_train_small.polarity.value_counts()"
   ]
  },
  {
   "cell_type": "code",
   "execution_count": 13,
   "id": "ac5774e7",
   "metadata": {},
   "outputs": [
    {
     "data": {
      "text/plain": [
       "\"I'm having Jonas depression, I wish tomorrow was wembley again, boohoo \""
      ]
     },
     "execution_count": 13,
     "metadata": {},
     "output_type": "execute_result"
    }
   ],
   "source": [
    "df_train_small[\"text\"].iloc[345]"
   ]
  },
  {
   "cell_type": "code",
   "execution_count": 14,
   "id": "2ddd8a27",
   "metadata": {},
   "outputs": [],
   "source": [
    "X_train = df_train_small[[\"text\"]]\n",
    "y_train = df_train_small[[\"polarity\"]]\n",
    "X_test = df_test[[\"text\"]]\n",
    "y_test = df_test[[\"polarity\"]]"
   ]
  },
  {
   "cell_type": "markdown",
   "id": "e1c36d03",
   "metadata": {},
   "source": [
    "**Preprocessing**"
   ]
  },
  {
   "cell_type": "code",
   "execution_count": 15,
   "id": "0fe78c2f",
   "metadata": {},
   "outputs": [],
   "source": [
    "def clean_text(text):\n",
    "    '''Make text lowercase, remove text in square brackets,remove links,remove punctuation,\n",
    "    remove words containing numbers, remove numbers.'''\n",
    "    text = str(text).lower()\n",
    "    text = re.sub('\\[.*?\\]', '', text)\n",
    "    text = re.sub('https?://\\S+|www\\.\\S+', '', text)\n",
    "    text = re.sub('<.*?>+', '', text)\n",
    "    text = re.sub('[%s]' % re.escape(string.punctuation), '', text)\n",
    "    text = re.sub('\\n', '', text)\n",
    "    text = re.sub('\\w*\\d\\w*', '', text)\n",
    "    text = ''.join([i for i in text if not i.isdigit()])\n",
    "    return text"
   ]
  },
  {
   "cell_type": "code",
   "execution_count": 16,
   "id": "17b7ee26",
   "metadata": {},
   "outputs": [
    {
     "name": "stderr",
     "output_type": "stream",
     "text": [
      "/var/folders/qr/lcd4mzfs405dggq4hnsm8d900000gn/T/ipykernel_17902/1724217882.py:1: SettingWithCopyWarning: \n",
      "A value is trying to be set on a copy of a slice from a DataFrame.\n",
      "Try using .loc[row_indexer,col_indexer] = value instead\n",
      "\n",
      "See the caveats in the documentation: https://pandas.pydata.org/pandas-docs/stable/user_guide/indexing.html#returning-a-view-versus-a-copy\n",
      "  X_train[\"text\"] = X_train[\"text\"].apply(clean_text)\n",
      "/var/folders/qr/lcd4mzfs405dggq4hnsm8d900000gn/T/ipykernel_17902/1724217882.py:2: SettingWithCopyWarning: \n",
      "A value is trying to be set on a copy of a slice from a DataFrame.\n",
      "Try using .loc[row_indexer,col_indexer] = value instead\n",
      "\n",
      "See the caveats in the documentation: https://pandas.pydata.org/pandas-docs/stable/user_guide/indexing.html#returning-a-view-versus-a-copy\n",
      "  X_test[\"text\"] = X_test[\"text\"].apply(clean_text)\n"
     ]
    }
   ],
   "source": [
    "X_train[\"text\"] = X_train[\"text\"].apply(clean_text)\n",
    "X_test[\"text\"] = X_test[\"text\"].apply(clean_text)"
   ]
  },
  {
   "cell_type": "code",
   "execution_count": 17,
   "id": "906928c6",
   "metadata": {},
   "outputs": [
    {
     "data": {
      "image/png": "[encoded data removed]",
      "text/plain": [
       "<Figure size 432x288 with 1 Axes>"
      ]
     },
     "metadata": {
      "needs_background": "light"
     },
     "output_type": "display_data"
    }
   ],
   "source": [
    "import matplotlib.pyplot as plt\n",
    "%matplotlib inline\n",
    "\n",
    "def plot_hist(X):\n",
    "    lenn = [len(i) for i in X]\n",
    "    plt.hist(lenn, bins=50)\n",
    "    plt.title('Histogram of the number of words by tweet')\n",
    "    plt.show()\n",
    "    \n",
    "plot_hist(X_train[\"text\"])"
   ]
  },
  {
   "cell_type": "code",
   "execution_count": 18,
   "id": "1087ccf6",
   "metadata": {},
   "outputs": [],
   "source": [
    "ls_train = X_train[\"text\"].tolist()\n",
    "X_train = [text_to_word_sequence(i) for i in ls_train]\n",
    "\n",
    "ls_test = X_test[\"text\"].tolist()\n",
    "X_test = [text_to_word_sequence(i) for i in ls_test]"
   ]
  },
  {
   "cell_type": "code",
   "execution_count": 20,
   "id": "0d652bc4",
   "metadata": {},
   "outputs": [],
   "source": [
    "X_pad = pad_sequences(X_train, padding='post', dtype=object, value=\"xxx\", maxlen=140)\n",
    "X_test = pad_sequences(X_test, padding='post', dtype=object, value=\"xxx\", maxlen=140)"
   ]
  },
  {
   "cell_type": "code",
   "execution_count": null,
   "id": "8a721776",
   "metadata": {},
   "outputs": [],
   "source": []
  },
  {
   "cell_type": "code",
   "execution_count": null,
   "id": "2a1255c2",
   "metadata": {},
   "outputs": [],
   "source": []
  },
  {
   "cell_type": "code",
   "execution_count": null,
   "id": "ec317fa0",
   "metadata": {},
   "outputs": [],
   "source": []
  },
  {
   "cell_type": "code",
   "execution_count": null,
   "id": "1a29c956",
   "metadata": {},
   "outputs": [],
   "source": []
  }
 ],
 "metadata": {
  "kernelspec": {
   "display_name": "Python 3 (ipykernel)",
   "language": "python",
   "name": "python3"
  },
  "language_info": {
   "codemirror_mode": {
    "name": "ipython",
    "version": 3
   },
   "file_extension": ".py",
   "mimetype": "text/x-python",
   "name": "python",
   "nbconvert_exporter": "python",
   "pygments_lexer": "ipython3",
   "version": "3.8.13"
  },
  "toc": {
   "base_numbering": 1,
   "nav_menu": {},
   "number_sections": true,
   "sideBar": true,
   "skip_h1_title": false,
   "title_cell": "Table of Contents",
   "title_sidebar": "Contents",
   "toc_cell": false,
   "toc_position": {},
   "toc_section_display": true,
   "toc_window_display": false
  }
 },
 "nbformat": 4,
 "nbformat_minor": 5
}

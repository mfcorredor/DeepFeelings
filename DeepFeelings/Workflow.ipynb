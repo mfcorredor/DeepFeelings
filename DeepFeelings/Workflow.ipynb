{
 "cells": [
  {
   "cell_type": "code",
   "execution_count": null,
   "id": "e4615352",
   "metadata": {},
   "outputs": [],
   "source": [
    "# final \n",
    "from amzwbscr_selenium import scrape_amz\n",
    "import twitter_api\n",
    "import cluster_viz, LDA_clustering \n",
    "import preprocessing_amz, preproc\n",
    "import app\n",
    "import visualization\n",
    "\n",
    "product_id = \"B08H93ZRK9\"\n",
    "username = \"playstation\"\n",
    "\n",
    "data_amz = scrape_amz(product_id)\n",
    "data_twr = pd.read_csv(\"../raw_data/tweets.csv\")\n",
    "data_all = pd.concat([data_twr, data_amz])\n",
    "\n",
    "sentiments = get_sentiments(data)\n",
    "lda = get_lda(data) \n",
    "clusters = get_clusters(data)\n",
    "wordclouds = get_wordcloud(data)\n",
    "\n",
    "\n",
    "#frontend \n",
    "#what are the exact input dfs for your frontend praphs"
   ]
  }
 ],
 "metadata": {
  "kernelspec": {
   "display_name": "Python 3 (ipykernel)",
   "language": "python",
   "name": "python3"
  },
  "language_info": {
   "codemirror_mode": {
    "name": "ipython",
    "version": 3
   },
   "file_extension": ".py",
   "mimetype": "text/x-python",
   "name": "python",
   "nbconvert_exporter": "python",
   "pygments_lexer": "ipython3",
   "version": "3.8.13"
  },
  "toc": {
   "base_numbering": 1,
   "nav_menu": {},
   "number_sections": true,
   "sideBar": true,
   "skip_h1_title": false,
   "title_cell": "Table of Contents",
   "title_sidebar": "Contents",
   "toc_cell": false,
   "toc_position": {},
   "toc_section_display": true,
   "toc_window_display": false
  }
 },
 "nbformat": 4,
 "nbformat_minor": 5
}

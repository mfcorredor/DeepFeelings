{
 "cells": [
  {
   "cell_type": "code",
   "execution_count": 2,
   "id": "e4615352",
   "metadata": {},
   "outputs": [
    {
     "name": "stderr",
     "output_type": "stream",
     "text": [
      "\n",
      "KeyboardInterrupt\n",
      "\n"
     ]
    }
   ],
   "source": [
    "# final \n",
    "from amzwbscr_selenium import scrape_amz\n",
    "import twitter_api\n",
    "from sentiment_class import get_data_sentiment_model\n",
    "\n",
    "product_id = [\"1400079985\"]\n",
    "user_name = \"PlayStation\"\n",
    "url = \"https://www.amazon.com/PlayStation-5-Console/product-reviews/B09DFCB66S/ref=cm_cr_dp_d_show_all_btm?ie=UTF8&reviewerType=all_reviews\"\n",
    "\n",
    "#data_amz = scrape_amz(product_id)\n",
    "\n",
    "df = get_data_sentiment_model(product_id, user_name, 100)\n",
    "df"
   ]
  },
  {
   "cell_type": "code",
   "execution_count": null,
   "id": "06031220",
   "metadata": {},
   "outputs": [],
   "source": []
  },
  {
   "cell_type": "code",
   "execution_count": null,
   "id": "ef06215b",
   "metadata": {},
   "outputs": [],
   "source": [
    "from sentiment_class import get_sentiment\n",
    "\n",
    "get_sentiment()"
   ]
  },
  {
   "cell_type": "code",
   "execution_count": 3,
   "id": "6add9e87",
   "metadata": {},
   "outputs": [
    {
     "name": "stdout",
     "output_type": "stream",
     "text": [
      "The autoreload extension is already loaded. To reload it, use:\n",
      "  %reload_ext autoreload\n",
      "page 1 of 5 scraped\n",
      "page 2 of 5 scraped\n",
      "page 3 of 5 scraped\n",
      "page 4 of 5 scraped\n",
      "page 5 of 5 scraped\n",
      "Next Token:  7140dibdnow9c7btw421t4lf4hsstayzkamydv3c8n9kn\n",
      "Start Date:  2022-06-03 12:50:54.424822\n",
      "Total # of Tweets added:  10\n",
      "-------------------\n",
      "Next Token:  7140dibdnow9c7btw421t4lf5yhuaudl0zag2m5t74roz\n",
      "Start Date:  2022-06-03 12:50:54.424822\n",
      "Total # of Tweets added:  19\n",
      "-------------------\n",
      "Next Token:  7140dibdnow9c7btw421t4lf5yhuaudl0zag2m5t74roz\n",
      "Start Date:  2022-06-03 12:50:54.424822\n",
      "Total # of Tweets added:  28\n",
      "-------------------\n",
      "Next Token:  7140dibdnow9c7btw421t4lf5yhuaudl0zag2m5t74roz\n",
      "Start Date:  2022-06-03 12:50:54.424822\n",
      "Total # of Tweets added:  38\n",
      "-------------------\n",
      "Next Token:  7140dibdnow9c7btw421t4lf5yhuaudl0zag2m5t74roz\n",
      "Start Date:  2022-06-03 12:50:54.424822\n",
      "Total # of Tweets added:  48\n",
      "-------------------\n",
      "Next Token:  7140dibdnow9c7btw421t4lf5yhuaudl0zag2m5t74roz\n",
      "Start Date:  2022-06-03 12:50:54.424822\n",
      "Total # of Tweets added:  58\n",
      "-------------------\n",
      "Next Token:  7140dibdnow9c7btw421t4lf5yhuaudl0zag2m5t74roz\n",
      "Start Date:  2022-06-03 12:50:54.424822\n",
      "Total # of Tweets added:  68\n",
      "-------------------\n",
      "Next Token:  7140dibdnow9c7btw421t4lf5yhvd9xiiqd4xeebh75tc\n",
      "Start Date:  2022-06-03 12:50:54.424822\n",
      "Total # of Tweets added:  77\n",
      "-------------------\n",
      "Next Token:  7140dibdnow9c7btw421t4lf5yhvd9xiiqd4xeebh75tc\n",
      "Start Date:  2022-06-03 12:50:54.424822\n",
      "Total # of Tweets added:  86\n",
      "-------------------\n",
      "Next Token:  7140dibdnow9c7btw421t4lf5yhvd9xiiqd4xeebh75tc\n",
      "Start Date:  2022-06-03 12:50:54.424822\n",
      "Total # of Tweets added:  95\n",
      "-------------------\n",
      "Next Token:  7140dibdnow9c7btw421t4lf5yhvd9xiiqd4xeebh75tc\n",
      "Start Date:  2022-06-03 12:50:54.424822\n",
      "Total # of Tweets added:  105\n",
      "-------------------\n",
      "Total # of Tweets added:  105\n",
      "-------------------\n",
      "Total number of results:  105\n"
     ]
    },
    {
     "ename": "TypeError",
     "evalue": "expected string or bytes-like object",
     "output_type": "error",
     "traceback": [
      "\u001b[0;31m---------------------------------------------------------------------------\u001b[0m",
      "\u001b[0;31mTypeError\u001b[0m                                 Traceback (most recent call last)",
      "\u001b[0;32m/var/folders/s4/671kyfms3wnc45z745cx9dc00000gn/T/ipykernel_22514/1769561709.py\u001b[0m in \u001b[0;36m<module>\u001b[0;34m\u001b[0m\n\u001b[1;32m      6\u001b[0m \u001b[0muser_name\u001b[0m \u001b[0;34m=\u001b[0m \u001b[0;34m\"PlayStation\"\u001b[0m\u001b[0;34m\u001b[0m\u001b[0;34m\u001b[0m\u001b[0m\n\u001b[1;32m      7\u001b[0m \u001b[0;34m\u001b[0m\u001b[0m\n\u001b[0;32m----> 8\u001b[0;31m \u001b[0mpreproc_sentiment_model\u001b[0m\u001b[0;34m(\u001b[0m\u001b[0mproduct_id\u001b[0m\u001b[0;34m,\u001b[0m \u001b[0muser_name\u001b[0m\u001b[0;34m,\u001b[0m \u001b[0;36m100\u001b[0m\u001b[0;34m)\u001b[0m\u001b[0;34m\u001b[0m\u001b[0;34m\u001b[0m\u001b[0m\n\u001b[0m",
      "\u001b[0;32m~/code/mfcorredor/DeepFeelings/DeepFeelings/sentiment_class.py\u001b[0m in \u001b[0;36mpreproc_sentiment_model\u001b[0;34m(ls_product_id, user_name, n_tweets)\u001b[0m\n\u001b[1;32m     46\u001b[0m \u001b[0;34m\u001b[0m\u001b[0m\n\u001b[1;32m     47\u001b[0m     \u001b[0;31m#remove text in square brackets\u001b[0m\u001b[0;34m\u001b[0m\u001b[0;34m\u001b[0m\u001b[0;34m\u001b[0m\u001b[0m\n\u001b[0;32m---> 48\u001b[0;31m     \u001b[0mdata\u001b[0m\u001b[0;34m.\u001b[0m\u001b[0mtext\u001b[0m \u001b[0;34m=\u001b[0m \u001b[0mre\u001b[0m\u001b[0;34m.\u001b[0m\u001b[0msub\u001b[0m\u001b[0;34m(\u001b[0m\u001b[0;34m'\\[.*?\\]'\u001b[0m\u001b[0;34m,\u001b[0m \u001b[0;34m''\u001b[0m\u001b[0;34m,\u001b[0m \u001b[0mdata\u001b[0m\u001b[0;34m.\u001b[0m\u001b[0mtext\u001b[0m\u001b[0;34m)\u001b[0m\u001b[0;34m\u001b[0m\u001b[0;34m\u001b[0m\u001b[0m\n\u001b[0m\u001b[1;32m     49\u001b[0m \u001b[0;34m\u001b[0m\u001b[0m\n\u001b[1;32m     50\u001b[0m     \u001b[0;31m#remove links\u001b[0m\u001b[0;34m\u001b[0m\u001b[0;34m\u001b[0m\u001b[0;34m\u001b[0m\u001b[0m\n",
      "\u001b[0;32m~/.pyenv/versions/3.8.13/lib/python3.8/re.py\u001b[0m in \u001b[0;36msub\u001b[0;34m(pattern, repl, string, count, flags)\u001b[0m\n\u001b[1;32m    208\u001b[0m     \u001b[0ma\u001b[0m \u001b[0mcallable\u001b[0m\u001b[0;34m,\u001b[0m \u001b[0mit\u001b[0m\u001b[0;31m'\u001b[0m\u001b[0ms\u001b[0m \u001b[0mpassed\u001b[0m \u001b[0mthe\u001b[0m \u001b[0mMatch\u001b[0m \u001b[0mobject\u001b[0m \u001b[0;32mand\u001b[0m \u001b[0mmust\u001b[0m \u001b[0;32mreturn\u001b[0m\u001b[0;34m\u001b[0m\u001b[0;34m\u001b[0m\u001b[0m\n\u001b[1;32m    209\u001b[0m     a replacement string to be used.\"\"\"\n\u001b[0;32m--> 210\u001b[0;31m     \u001b[0;32mreturn\u001b[0m \u001b[0m_compile\u001b[0m\u001b[0;34m(\u001b[0m\u001b[0mpattern\u001b[0m\u001b[0;34m,\u001b[0m \u001b[0mflags\u001b[0m\u001b[0;34m)\u001b[0m\u001b[0;34m.\u001b[0m\u001b[0msub\u001b[0m\u001b[0;34m(\u001b[0m\u001b[0mrepl\u001b[0m\u001b[0;34m,\u001b[0m \u001b[0mstring\u001b[0m\u001b[0;34m,\u001b[0m \u001b[0mcount\u001b[0m\u001b[0;34m)\u001b[0m\u001b[0;34m\u001b[0m\u001b[0;34m\u001b[0m\u001b[0m\n\u001b[0m\u001b[1;32m    211\u001b[0m \u001b[0;34m\u001b[0m\u001b[0m\n\u001b[1;32m    212\u001b[0m \u001b[0;32mdef\u001b[0m \u001b[0msubn\u001b[0m\u001b[0;34m(\u001b[0m\u001b[0mpattern\u001b[0m\u001b[0;34m,\u001b[0m \u001b[0mrepl\u001b[0m\u001b[0;34m,\u001b[0m \u001b[0mstring\u001b[0m\u001b[0;34m,\u001b[0m \u001b[0mcount\u001b[0m\u001b[0;34m=\u001b[0m\u001b[0;36m0\u001b[0m\u001b[0;34m,\u001b[0m \u001b[0mflags\u001b[0m\u001b[0;34m=\u001b[0m\u001b[0;36m0\u001b[0m\u001b[0;34m)\u001b[0m\u001b[0;34m:\u001b[0m\u001b[0;34m\u001b[0m\u001b[0;34m\u001b[0m\u001b[0m\n",
      "\u001b[0;31mTypeError\u001b[0m: expected string or bytes-like object"
     ]
    }
   ],
   "source": [
    "from sentiment_class import preproc_sentiment_model\n",
    "%load_ext autoreload\n",
    "%autoreload 2\n",
    "\n",
    "product_id = [\"1400079985\"]\n",
    "user_name = \"PlayStation\"\n",
    "\n",
    "preproc_sentiment_model(product_id, user_name, 100)"
   ]
  },
  {
   "cell_type": "code",
   "execution_count": null,
   "id": "7b595de3",
   "metadata": {},
   "outputs": [],
   "source": []
  },
  {
   "cell_type": "code",
   "execution_count": null,
   "id": "4667ec5c",
   "metadata": {},
   "outputs": [],
   "source": [
    "product_id = [\"B08H93ZRK9\", \"B09DFCB66S\"] #playstations\n",
    "\n",
    "data_twr = pd.read_csv(\"../raw_data/tweets.csv\")\n",
    "data_all = pd.concat([data_twr, data_amz])\n",
    "\n",
    "sentiments = get_sentiments(data)\n",
    "lda = get_lda(data) \n",
    "clusters = get_clusters(data)\n",
    "wordclouds = get_wordcloud(data)\n",
    "\n",
    "\n",
    "#frontend \n",
    "#what are the exact input dfs for your frontend praphs\n"
   ]
  }
 ],
 "metadata": {
  "kernelspec": {
   "display_name": "Python 3 (ipykernel)",
   "language": "python",
   "name": "python3"
  },
  "language_info": {
   "codemirror_mode": {
    "name": "ipython",
    "version": 3
   },
   "file_extension": ".py",
   "mimetype": "text/x-python",
   "name": "python",
   "nbconvert_exporter": "python",
   "pygments_lexer": "ipython3",
   "version": "3.8.13"
  },
  "toc": {
   "base_numbering": 1,
   "nav_menu": {},
   "number_sections": true,
   "sideBar": true,
   "skip_h1_title": false,
   "title_cell": "Table of Contents",
   "title_sidebar": "Contents",
   "toc_cell": false,
   "toc_position": {},
   "toc_section_display": true,
   "toc_window_display": false
  }
 },
 "nbformat": 4,
 "nbformat_minor": 5
}

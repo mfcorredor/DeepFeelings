{
 "cells": [
  {
   "cell_type": "code",
   "execution_count": 2,
   "id": "3c49ba2f",
   "metadata": {},
   "outputs": [
    {
     "name": "stdout",
     "output_type": "stream",
     "text": [
      "amzwbscr_selenium.py  notebooks\t\t      README.md\t\ttests\r\n",
      "DeepFeelings\t      preprocessing_amz       requirements.txt\tUntitled.ipynb\r\n",
      "Makefile\t      Preprocessing_v2.ipynb  scripts\r\n",
      "MANIFEST.in\t      raw_data\t\t      setup.py\r\n"
     ]
    }
   ],
   "source": [
    "!ls"
   ]
  },
  {
   "cell_type": "code",
   "execution_count": 3,
   "id": "1bcac7af",
   "metadata": {},
   "outputs": [],
   "source": [
    "from DeepFeelings import *"
   ]
  },
  {
   "cell_type": "code",
   "execution_count": 4,
   "id": "4abae803",
   "metadata": {},
   "outputs": [
    {
     "ename": "NameError",
     "evalue": "name 'list_of_strings' is not defined",
     "output_type": "error",
     "traceback": [
      "\u001b[0;31m---------------------------------------------------------------------------\u001b[0m",
      "\u001b[0;31mNameError\u001b[0m                                 Traceback (most recent call last)",
      "Input \u001b[0;32mIn [4]\u001b[0m, in \u001b[0;36m<cell line: 1>\u001b[0;34m()\u001b[0m\n\u001b[0;32m----> 1\u001b[0m \u001b[43mlist_of_strings\u001b[49m()\n",
      "\u001b[0;31mNameError\u001b[0m: name 'list_of_strings' is not defined"
     ]
    }
   ],
   "source": [
    "list_of_strings()"
   ]
  },
  {
   "cell_type": "code",
   "execution_count": 5,
   "id": "5462d630",
   "metadata": {},
   "outputs": [
    {
     "ename": "ModuleNotFoundError",
     "evalue": "No module named 'preprocfromjannick'",
     "output_type": "error",
     "traceback": [
      "\u001b[0;31m---------------------------------------------------------------------------\u001b[0m",
      "\u001b[0;31mModuleNotFoundError\u001b[0m                       Traceback (most recent call last)",
      "Input \u001b[0;32mIn [5]\u001b[0m, in \u001b[0;36m<cell line: 1>\u001b[0;34m()\u001b[0m\n\u001b[0;32m----> 1\u001b[0m \u001b[38;5;28;01mfrom\u001b[39;00m \u001b[38;5;21;01mpreprocfromjannick\u001b[39;00m \u001b[38;5;28;01mimport\u001b[39;00m list_of_strings\n",
      "\u001b[0;31mModuleNotFoundError\u001b[0m: No module named 'preprocfromjannick'"
     ]
    }
   ],
   "source": [
    "from preprocfromjannick import list_of_strings"
   ]
  },
  {
   "cell_type": "code",
   "execution_count": null,
   "id": "1858ab31",
   "metadata": {},
   "outputs": [],
   "source": []
  }
 ],
 "metadata": {
  "kernelspec": {
   "display_name": "Python 3 (ipykernel)",
   "language": "python",
   "name": "python3"
  },
  "language_info": {
   "codemirror_mode": {
    "name": "ipython",
    "version": 3
   },
   "file_extension": ".py",
   "mimetype": "text/x-python",
   "name": "python",
   "nbconvert_exporter": "python",
   "pygments_lexer": "ipython3",
   "version": "3.8.12"
  },
  "toc": {
   "base_numbering": 1,
   "nav_menu": {},
   "number_sections": true,
   "sideBar": true,
   "skip_h1_title": false,
   "title_cell": "Table of Contents",
   "title_sidebar": "Contents",
   "toc_cell": false,
   "toc_position": {},
   "toc_section_display": true,
   "toc_window_display": false
  }
 },
 "nbformat": 4,
 "nbformat_minor": 5
}
